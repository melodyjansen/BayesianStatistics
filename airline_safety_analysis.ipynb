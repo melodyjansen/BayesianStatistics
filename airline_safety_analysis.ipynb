{
  "nbformat": 4,
  "nbformat_minor": 0,
  "metadata": {
    "colab": {
      "provenance": [],
      "include_colab_link": true
    },
    "kernelspec": {
      "name": "python3",
      "display_name": "Python 3"
    },
    "language_info": {
      "name": "python"
    }
  },
  "cells": [
    {
      "cell_type": "markdown",
      "metadata": {
        "id": "view-in-github",
        "colab_type": "text"
      },
      "source": [
        "<a href=\"https://colab.research.google.com/github/melodyjansen/BayesianStatistics/blob/main/airline_safety_analysis.ipynb\" target=\"_parent\"><img src=\"https://colab.research.google.com/assets/colab-badge.svg\" alt=\"Open In Colab\"/></a>"
      ]
    },
    {
      "cell_type": "markdown",
      "source": [
        "# Airline Safety\n",
        "\n",
        "`A Bayesian data analysis study`\n",
        "\n",
        "Melody Jansen (s1053601), Ruoqing Fan (s1038659)"
      ],
      "metadata": {
        "id": "DTm8EPORIVs1"
      }
    },
    {
      "cell_type": "markdown",
      "source": [
        "## Introduction\n",
        "\n",
        "In the past there have been some deadly airline crashes causing some people to be hesitant about flying these airlines again. We want to experiment whether this behaviour is rational. Therefore, for this project, we have obtained resources about airline safety of different airlines from the Flight Safety Foundation (FSF). The FSF is an organisation that brings together aviation professionals from all sectors to help solve safety problems facing the industry. It supports sources such as the ASN that provides accurate and authoritative information on airline accidents and safety issues. We will be using the [ASN Accident Database](https://github.com/fivethirtyeight/data/blob/master/airline-safety/airline-safety.csv) that contains detailed descriptions of (fatal) incidents of 57 different airlines in the period of 1985–1999 and 2000–2014. We want to find out whether the number of fatal incidents have decreased in the past years by comparing the rate of fatal incidents in the era's of 1985–1999 and 2000–2014. Our research question is thus: “Did the rate of fatal aviation incidents decrease between the available measured periods, 1985–1999 and 2000–2014?” as we take in consideration that some airplanes are capable of handling crashes (and thus not end up fatal).\n",
        "\n",
        "Most people that are scared of flying the airlines that have had fatal incidents in the past assume that the rate will not decrease (airlines do not get better at handling incidents). To test whether this is really the case we will perform Bayesian model comparison.\n",
        "\n",
        "We define two models: $m_1$, in which there is a difference between the periods, and $m_0$ in which there is no difference. In both models, we will be analysing by estimating the prior and posterior number of fatal aviation incidents differences, and using the approach with the categorical model variable $m$ in JAGS to compute the Bayes factor. There are many ways to implement this model comparison, but we choose the categorical approach because we have observations that fall into discrete groups (Different, Not different) and are already familiar with this approach. After that, we will try another approach, namely the Savage-Dickey approach, to double-check our results and confirm our answer to the research question. We can use this approach by formulating our null model with a precise hypothesis (e.g. difference is exactly 0), which greatly simplifies our computations of the Bayes factor."
      ],
      "metadata": {
        "id": "Lfn5fY-jhQ7x"
      }
    },
    {
      "cell_type": "code",
      "source": [
        "!apt install jags\n",
        "!pip install pyjags\n",
        "!pip install daft"
      ],
      "metadata": {
        "colab": {
          "base_uri": "https://localhost:8080/"
        },
        "id": "VgDU5qoakyBQ",
        "outputId": "9d435870-6d12-491b-e6ac-86d6fd114e6a"
      },
      "execution_count": null,
      "outputs": [
        {
          "output_type": "stream",
          "name": "stdout",
          "text": [
            "Reading package lists... Done\n",
            "Building dependency tree       \n",
            "Reading state information... Done\n",
            "jags is already the newest version (4.3.2-1.2004.1).\n",
            "0 upgraded, 0 newly installed, 0 to remove and 34 not upgraded.\n",
            "Looking in indexes: https://pypi.org/simple, https://us-python.pkg.dev/colab-wheels/public/simple/\n",
            "Requirement already satisfied: pyjags in /usr/local/lib/python3.10/dist-packages (1.3.8)\n",
            "Requirement already satisfied: numpy in /usr/local/lib/python3.10/dist-packages (from pyjags) (1.22.4)\n",
            "Requirement already satisfied: arviz in /usr/local/lib/python3.10/dist-packages (from pyjags) (0.15.1)\n",
            "Requirement already satisfied: deepdish in /usr/local/lib/python3.10/dist-packages (from pyjags) (0.3.7)\n",
            "Requirement already satisfied: setuptools>=60.0.0 in /usr/local/lib/python3.10/dist-packages (from arviz->pyjags) (67.7.2)\n",
            "Requirement already satisfied: matplotlib>=3.2 in /usr/local/lib/python3.10/dist-packages (from arviz->pyjags) (3.7.1)\n",
            "Requirement already satisfied: scipy>=1.8.0 in /usr/local/lib/python3.10/dist-packages (from arviz->pyjags) (1.10.1)\n",
            "Requirement already satisfied: packaging in /usr/local/lib/python3.10/dist-packages (from arviz->pyjags) (23.1)\n",
            "Requirement already satisfied: pandas>=1.3.0 in /usr/local/lib/python3.10/dist-packages (from arviz->pyjags) (1.5.3)\n",
            "Requirement already satisfied: xarray>=0.21.0 in /usr/local/lib/python3.10/dist-packages (from arviz->pyjags) (2022.12.0)\n",
            "Requirement already satisfied: h5netcdf>=1.0.2 in /usr/local/lib/python3.10/dist-packages (from arviz->pyjags) (1.1.0)\n",
            "Requirement already satisfied: typing-extensions>=4.1.0 in /usr/local/lib/python3.10/dist-packages (from arviz->pyjags) (4.5.0)\n",
            "Requirement already satisfied: xarray-einstats>=0.3 in /usr/local/lib/python3.10/dist-packages (from arviz->pyjags) (0.5.1)\n",
            "Requirement already satisfied: tables in /usr/local/lib/python3.10/dist-packages (from deepdish->pyjags) (3.8.0)\n",
            "Requirement already satisfied: h5py in /usr/local/lib/python3.10/dist-packages (from h5netcdf>=1.0.2->arviz->pyjags) (3.8.0)\n",
            "Requirement already satisfied: contourpy>=1.0.1 in /usr/local/lib/python3.10/dist-packages (from matplotlib>=3.2->arviz->pyjags) (1.0.7)\n",
            "Requirement already satisfied: cycler>=0.10 in /usr/local/lib/python3.10/dist-packages (from matplotlib>=3.2->arviz->pyjags) (0.11.0)\n",
            "Requirement already satisfied: fonttools>=4.22.0 in /usr/local/lib/python3.10/dist-packages (from matplotlib>=3.2->arviz->pyjags) (4.39.3)\n",
            "Requirement already satisfied: kiwisolver>=1.0.1 in /usr/local/lib/python3.10/dist-packages (from matplotlib>=3.2->arviz->pyjags) (1.4.4)\n",
            "Requirement already satisfied: pillow>=6.2.0 in /usr/local/lib/python3.10/dist-packages (from matplotlib>=3.2->arviz->pyjags) (8.4.0)\n",
            "Requirement already satisfied: pyparsing>=2.3.1 in /usr/local/lib/python3.10/dist-packages (from matplotlib>=3.2->arviz->pyjags) (3.0.9)\n",
            "Requirement already satisfied: python-dateutil>=2.7 in /usr/local/lib/python3.10/dist-packages (from matplotlib>=3.2->arviz->pyjags) (2.8.2)\n",
            "Requirement already satisfied: pytz>=2020.1 in /usr/local/lib/python3.10/dist-packages (from pandas>=1.3.0->arviz->pyjags) (2022.7.1)\n",
            "Requirement already satisfied: cython>=0.29.21 in /usr/local/lib/python3.10/dist-packages (from tables->deepdish->pyjags) (0.29.34)\n",
            "Requirement already satisfied: numexpr>=2.6.2 in /usr/local/lib/python3.10/dist-packages (from tables->deepdish->pyjags) (2.8.4)\n",
            "Requirement already satisfied: blosc2~=2.0.0 in /usr/local/lib/python3.10/dist-packages (from tables->deepdish->pyjags) (2.0.0)\n",
            "Requirement already satisfied: py-cpuinfo in /usr/local/lib/python3.10/dist-packages (from tables->deepdish->pyjags) (9.0.0)\n",
            "Requirement already satisfied: msgpack in /usr/local/lib/python3.10/dist-packages (from blosc2~=2.0.0->tables->deepdish->pyjags) (1.0.5)\n",
            "Requirement already satisfied: six>=1.5 in /usr/local/lib/python3.10/dist-packages (from python-dateutil>=2.7->matplotlib>=3.2->arviz->pyjags) (1.16.0)\n",
            "Looking in indexes: https://pypi.org/simple, https://us-python.pkg.dev/colab-wheels/public/simple/\n",
            "Requirement already satisfied: daft in /usr/local/lib/python3.10/dist-packages (0.1.2)\n",
            "Requirement already satisfied: matplotlib in /usr/local/lib/python3.10/dist-packages (from daft) (3.7.1)\n",
            "Requirement already satisfied: numpy in /usr/local/lib/python3.10/dist-packages (from daft) (1.22.4)\n",
            "Requirement already satisfied: setuptools in /usr/local/lib/python3.10/dist-packages (from daft) (67.7.2)\n",
            "Requirement already satisfied: contourpy>=1.0.1 in /usr/local/lib/python3.10/dist-packages (from matplotlib->daft) (1.0.7)\n",
            "Requirement already satisfied: cycler>=0.10 in /usr/local/lib/python3.10/dist-packages (from matplotlib->daft) (0.11.0)\n",
            "Requirement already satisfied: fonttools>=4.22.0 in /usr/local/lib/python3.10/dist-packages (from matplotlib->daft) (4.39.3)\n",
            "Requirement already satisfied: kiwisolver>=1.0.1 in /usr/local/lib/python3.10/dist-packages (from matplotlib->daft) (1.4.4)\n",
            "Requirement already satisfied: packaging>=20.0 in /usr/local/lib/python3.10/dist-packages (from matplotlib->daft) (23.1)\n",
            "Requirement already satisfied: pillow>=6.2.0 in /usr/local/lib/python3.10/dist-packages (from matplotlib->daft) (8.4.0)\n",
            "Requirement already satisfied: pyparsing>=2.3.1 in /usr/local/lib/python3.10/dist-packages (from matplotlib->daft) (3.0.9)\n",
            "Requirement already satisfied: python-dateutil>=2.7 in /usr/local/lib/python3.10/dist-packages (from matplotlib->daft) (2.8.2)\n",
            "Requirement already satisfied: six>=1.5 in /usr/local/lib/python3.10/dist-packages (from python-dateutil>=2.7->matplotlib->daft) (1.16.0)\n"
          ]
        }
      ]
    },
    {
      "cell_type": "code",
      "source": [
        "import matplotlib.pyplot as plt\n",
        "from scipy.special import betaln\n",
        "import numpy as np\n",
        "import pyjags as pj\n",
        "import csv\n",
        "import daft\n",
        "\n",
        "print('Using PyJAGS v{:s}'.format(pj.__version__))\n",
        "\n",
        "plt.rc('axes', titlesize=18)        # fontsize of the axes title\n",
        "plt.rc('axes', labelsize=18)        # fontsize of the x and y labels\n",
        "plt.rc('xtick', labelsize=14)       # fontsize of the tick labels\n",
        "plt.rc('ytick', labelsize=14)       # fontsize of the tick labels\n",
        "plt.rc('legend', fontsize=12)       # legend fontsize\n",
        "plt.rc('figure', titlesize=30)      # fontsize of the figure title"
      ],
      "metadata": {
        "colab": {
          "base_uri": "https://localhost:8080/"
        },
        "id": "BFcAp8uelPT4",
        "outputId": "337ea98e-035d-4715-e119-539a3331d154"
      },
      "execution_count": null,
      "outputs": [
        {
          "output_type": "stream",
          "name": "stdout",
          "text": [
            "Using PyJAGS v1.3.8\n"
          ]
        }
      ]
    },
    {
      "cell_type": "code",
      "source": [
        "with open('airline-safety.csv') as csvfile:\n",
        "    readCSV = csv.reader(csvfile, delimiter=',')\n",
        "    airlines = []\n",
        "    incidents_85_99 = []\n",
        "    incidents_00_14 = []\n",
        "    fatal_inc_85_99 = []\n",
        "    fatal_inc_00_14 = []\n",
        "    for row in readCSV:\n",
        "        airline = row[0]\n",
        "        incident_85_99 = row[2]\n",
        "        incident_00_14 = row[5]\n",
        "        fatal_incident_85_99 = row[3]\n",
        "        fatal_incident_00_14 = row[6]\n",
        "\n",
        "        airlines.append(airline)\n",
        "        incidents_85_99.append(incident_85_99)\n",
        "        incidents_00_14.append(incident_00_14)\n",
        "        fatal_inc_85_99.append(fatal_incident_85_99)\n",
        "        fatal_inc_00_14.append(fatal_incident_00_14)\n",
        "\n",
        "    airlines = airlines[1:]\n",
        "    incidents_85_99 = incidents_85_99[1:]\n",
        "    incidents_00_14 = incidents_00_14[1:]\n",
        "    fatal_inc_85_99 = fatal_inc_85_99[1:]\n",
        "    fatal_inc_00_14 = fatal_inc_00_14[1:]"
      ],
      "metadata": {
        "id": "gpm5nIFOm-bZ"
      },
      "execution_count": null,
      "outputs": []
    },
    {
      "cell_type": "code",
      "source": [
        "# Convert incident counts from strings to integers\n",
        "incidents_85_99 = [int(incident) for incident in incidents_85_99]\n",
        "incidents_00_14 = [int(incident) for incident in incidents_00_14]\n",
        "fatal_inc_85_99 = [int(incident) for incident in fatal_inc_85_99]\n",
        "fatal_inc_00_14 = [int(incident) for incident in fatal_inc_00_14]\n",
        "\n",
        "# Compute the number of incidents from the database\n",
        "print(\"Total number of incidents in 1985-1999:\", sum(incidents_85_99))\n",
        "print(\"Total number of incidents in 2000-2014:\", sum(incidents_00_14))\n",
        "print(\"Number of fatal incidents in 1985-1999:\", sum(fatal_inc_85_99))\n",
        "print(\"Number of fatal incidents in 2000-2014:\", sum(fatal_inc_00_14))"
      ],
      "metadata": {
        "id": "_mNCFVS4RDI7",
        "outputId": "0e2a87bd-ca82-4df1-fc64-48eba5639166",
        "colab": {
          "base_uri": "https://localhost:8080/"
        }
      },
      "execution_count": null,
      "outputs": [
        {
          "output_type": "stream",
          "name": "stdout",
          "text": [
            "Total number of incidents in 1985-1999: 402\n",
            "Total number of incidents in 2000-2014: 231\n",
            "Number of fatal incidents in 1985-1999: 122\n",
            "Number of fatal incidents in 2000-2014: 37\n"
          ]
        }
      ]
    },
    {
      "cell_type": "markdown",
      "source": [
        "## Model comparison\n",
        "\n",
        "First, to get the total number of incidents in 1985-1999 $(P1)$ and 2000-2014 $(P2)$, we made the computations above.\n",
        "As it can be seen, the results from the ASN Accident Database are that out of $N_{P1} = 402$ incidents, $z_{P1} = 122$ are fatal and out of $N_{P2}=231$ incidents, $z_{P2} = 37$ are fatal.\n",
        "\n",
        "For our Bayesian model comparison, we define the null model $m_0$: $\\theta_{P1} = \\theta_{P2}$, and the alternative model, $m_0$: $\\theta_{P1} \\neq \\theta_{P2}$. We will be using the approach with the categorical model variable $m$ in JAGS."
      ],
      "metadata": {
        "id": "F7i1Hks1-ubW"
      }
    },
    {
      "cell_type": "markdown",
      "source": [
        "### Generative models\n",
        "\n",
        "For the null model, $m_0$, where the success (incident is fatal) probabilites for the periods 1985-1999 $(P1)$ and 2000-2014 $(P2)$ appears to be the same, we can describe the prior as a spike distribution with $c=0.5$ and the likehood as a Binomial distribution. We set the variable $c$ to 0.5 as the null model suggests that there is an equal outcome. We choose the Binomial distribution as our likelihood as the Binomial distribution is appropriate when we have a fixed number of independent Bernoulli trials (in this case, whether an incident is fatal or not) and we want to model the number of successes (fatal incidents) out of those trials. The parameters of the Binomial distribution are the number of trials ($N_{P1}$ or $N_{P2}$) and the success probability ($\\theta_{P1}$ or $\\theta_{P2}$).\n",
        "\n",
        "This gives the generative model $\\enspace m_0:=$\n",
        "\n",
        "\\begin{equation}\n",
        "\\begin{split}\n",
        "\\theta_{P1} \\mid c &\\sim \\text{spike}(\\theta_{P1} \\mid c) \\\\\n",
        "\\theta_{P2} \\mid c &\\sim \\text{spike}(\\theta_{P2} \\mid c) \\\\\n",
        "z_{P1} \\mid N_{P1}, \\theta_{P1} &\\sim \\text{Binomial}(N_{P1}, \\theta_{P1}) \\\\\n",
        "z_{P2} \\mid N_{P2}, \\theta_{P2} &\\sim \\text{Binomial}(N_{P2}, \\theta_{P2}) \\\\\n",
        "\\end{split}\n",
        "\\end{equation}\n",
        "$\\enspace$\n",
        "\n",
        "The alternative model, $m_1$, where the success probabilities for the first period $P1$ (1985-1999) and the second period $P2$ (2000-2014) are different, treats $\\theta$ as a latent parameter, and\n",
        "assigns it a ‘real’ prior, the beta distribution. We use the beta distribution, because it is a conjugate prior for the binomial likelihood. Accordingly for the likehood, the Binomial distribution is used, for the same reasons as explained earlier.\n",
        "\n",
        "So we have the generative model $\\enspace m_1:=$\n",
        "\n",
        "\\begin{equation}\n",
        "\\begin{split}\n",
        "\\theta_{P1} \\mid a, b &\\sim \\text{beta}(a, b) \\\\\n",
        "\\theta_{P2} \\mid a, b &\\sim \\text{beta}(a, b) \\\\\n",
        "z_{P1} \\mid N_{P1}, \\theta_{P1} &\\sim \\text{Binomial}(N_{P1}, \\theta_{P1}) \\\\\n",
        "z_{P2} \\mid N_{P2}, \\theta_{P2} &\\sim \\text{Binomial}(N_{P2}, \\theta_{P2}) \\\\\n",
        "\\end{split}\n",
        "\\end{equation}"
      ],
      "metadata": {
        "id": "B8bYsXCbFAa-"
      }
    },
    {
      "cell_type": "markdown",
      "source": [
        "### Graphical models\n",
        "\n",
        "Below, we have their respective graphical representation."
      ],
      "metadata": {
        "id": "9zPEY4xS24kR"
      }
    },
    {
      "cell_type": "code",
      "source": [
        "# Graphical representation for m0\n",
        "\n",
        "pgm = daft.PGM()\n",
        "\n",
        "# Nodes (rectangle shape represents diamond shape)\n",
        "pgm.add_node(daft.Node(\"c\", r\"$c$\", x=2, y=3, shape=\"rectangle\"))\n",
        "pgm.add_node(daft.Node(\"N\", r\"$N_x$\", x=0, y=2, shape=\"rectangle\", observed=True))\n",
        "pgm.add_node(daft.Node(\"theta\", r\"$\\theta_x$\", x=2, y=2, shape=\"ellipse\"))\n",
        "pgm.add_node(daft.Node(\"z\", r\"$z_x$\", x=1, y=0, shape=\"ellipse\", observed=True))\n",
        "\n",
        "# Edges\n",
        "pgm.add_edge(\"c\", \"theta\")\n",
        "pgm.add_edge(\"N\", \"z\")\n",
        "pgm.add_edge(\"theta\", \"z\")\n",
        "\n",
        "# Plate\n",
        "pgm.add_plate(daft.Plate([-0.5,-0.5, 3, 3], label=\"$x$ $∈$ $[P1, P2]$\"))\n",
        "\n",
        "# Render\n",
        "pgm.render()"
      ],
      "metadata": {
        "colab": {
          "base_uri": "https://localhost:8080/",
          "height": 402
        },
        "id": "pGpMcrKkqs5u",
        "outputId": "7a6350a5-5405-4460-fb49-fe000e969896"
      },
      "execution_count": null,
      "outputs": [
        {
          "output_type": "stream",
          "name": "stderr",
          "text": [
            "/usr/local/lib/python3.10/dist-packages/daft.py:842: RuntimeWarning: divide by zero encountered in double_scalars\n",
            "  * np.abs(dy / dx)\n"
          ]
        },
        {
          "output_type": "execute_result",
          "data": {
            "text/plain": [
              "<Axes: >"
            ]
          },
          "metadata": {},
          "execution_count": 103
        },
        {
          "output_type": "display_data",
          "data": {
            "text/plain": [
              "<Figure size 251.969x311.024 with 1 Axes>"
            ],
            "image/png": "[encoded data removed]"
          },
          "metadata": {}
        }
      ]
    },
    {
      "cell_type": "code",
      "source": [
        "# Graphical representation for m1\n",
        "\n",
        "pgm = daft.PGM()\n",
        "\n",
        "# Nodes (rectangle shape represents diamond shape)\n",
        "pgm.add_node(daft.Node(\"a\", r\"$a$\", x=4, y=4, shape=\"rectangle\"))\n",
        "pgm.add_node(daft.Node(\"b\", r\"$b$\", x=8, y=4, shape=\"rectangle\"))\n",
        "pgm.add_node(daft.Node(\"N\", r\"$N_x$\", x=2, y=2, shape=\"rectangle\", observed=True))\n",
        "pgm.add_node(daft.Node(\"theta\", r\"$\\theta_x$\", x=6, y=2, shape=\"ellipse\"))\n",
        "pgm.add_node(daft.Node(\"z\", r\"$z_x$\", x=4, y=0, shape=\"ellipse\", observed=True))\n",
        "\n",
        "# Edges\n",
        "pgm.add_edge(\"a\", \"theta\")\n",
        "pgm.add_edge(\"b\", \"theta\")\n",
        "pgm.add_edge(\"theta\", \"z\")\n",
        "pgm.add_edge(\"N\", \"z\")\n",
        "\n",
        "# Plate\n",
        "pgm.add_plate(daft.Plate([1, -0.5, 7, 3], label=\"$x$ $∈$ $[P1, P2]$\"))\n",
        "\n",
        "# Render\n",
        "pgm.render()\n"
      ],
      "metadata": {
        "colab": {
          "base_uri": "https://localhost:8080/",
          "height": 444
        },
        "id": "F2TsE4sow5Qd",
        "outputId": "6613bf50-6ae4-47a8-911f-eab5db0a357b"
      },
      "execution_count": null,
      "outputs": [
        {
          "output_type": "execute_result",
          "data": {
            "text/plain": [
              "<Axes: >"
            ]
          },
          "metadata": {},
          "execution_count": 104
        },
        {
          "output_type": "display_data",
          "data": {
            "text/plain": [
              "<Figure size 586.614x389.764 with 1 Axes>"
            ],
            "image/png": "[encoded data removed]"
          },
          "metadata": {}
        }
      ]
    },
    {
      "cell_type": "markdown",
      "source": [
        "### JAGS implementation\n",
        "\n",
        "Next, we want to implement the model comparison in JAGS. For this, we make use of the fact that in $m_0$, $\\theta_{P1}$ and $\\theta_{P2}$ are the same. That means we can sample one, and then _set_ the other."
      ],
      "metadata": {
        "id": "7H2g4kDFsZjs"
      }
    },
    {
      "cell_type": "code",
      "source": [
        "jags_model = '''\n",
        "model {\n",
        "    ## Prior\n",
        "    m ~ dcat(model_probs)\n",
        "    theta_P1 ~ dbeta(a, b)\n",
        "    theta_P2 ~ dbeta(a, b)\n",
        "\n",
        "    theta_P2_2 = ifelse(m==1, theta_P1, theta_P2)\n",
        "\n",
        "    ## Likelihood\n",
        "    z_P1 ~ dbin(theta_P1, N_P1)\n",
        "    z_P2 ~ dbin(theta_P2_2, N_P2)\n",
        "}\n",
        "'''\n",
        "\n",
        "N_P1 = 402\n",
        "z_P1 = 122\n",
        "\n",
        "N_P2 = 231\n",
        "z_P2 = 37\n",
        "\n",
        "# using a relatively non-informative prior\n",
        "a = 1\n",
        "b = 1\n",
        "\n",
        "# assigning prior probabilities\n",
        "model_probs = [0.5, 0.5]\n",
        "\n",
        "data = dict(N_P1=N_P1, N_P2=N_P2, z_P2=z_P2, z_P1=z_P1, a=a, b=b, model_probs=model_probs)\n",
        "\n",
        "num_samples = 400000\n",
        "num_chains = 4\n",
        "m = pj.Model(jags_model, data=data, chains=num_chains)\n",
        "\n",
        "samples = m.sample(num_samples, vars=['m','theta_P1', 'theta_P2_2', 'z_P2', 'z_P1'])\n",
        "print('Sampling complete.')"
      ],
      "metadata": {
        "colab": {
          "base_uri": "https://localhost:8080/"
        },
        "id": "7A1Vg-O5RNQU",
        "outputId": "5e274b49-d9c2-4a26-c561-e919ffe017d1"
      },
      "execution_count": null,
      "outputs": [
        {
          "output_type": "stream",
          "name": "stdout",
          "text": [
            "adapting: iterations 4000 of 4000, elapsed 0:00:00, remaining 0:00:00\n",
            "sampling: iterations 1600000 of 1600000, elapsed 0:00:05, remaining 0:00:00\n",
            "sampling: iterations 1600000 of 1600000, elapsed 0:00:05, remaining 0:00:00\n",
            "Sampling complete.\n"
          ]
        }
      ]
    },
    {
      "cell_type": "markdown",
      "source": [
        "### Bayes factor\n",
        "\n",
        "The Bayes factor is the ratio of evidence for the two models, which is computed as:\n",
        "$$\n",
        "    BF_{10} = \\frac{p(D \\mid m_1)}{p(D \\mid m_0)} = \\frac{p(z \\mid N, m_1)}{p(z \\mid N, m_0)} \\enspace\n",
        "$$\n",
        "\n",
        "For our model comparison, we compute the posterior model probabilities and the Bayes factor as follows:"
      ],
      "metadata": {
        "id": "u85LBnRf6EHI"
      }
    },
    {
      "cell_type": "code",
      "source": [
        "# Posterior model probability\n",
        "m_samples = samples['m'].flatten()\n",
        "pmp1 = np.mean(m_samples) - 1 # our categorical\n",
        "pmp0 = 1 - pmp1\n",
        "print(\"Posterior probability of m0: {}\".format(pmp0))\n",
        "print(\"Posterior probability of m1: {}\".format(pmp1))\n",
        "\n",
        "# JAGS Bayes factor\n",
        "BF_10 = pmp1/pmp0\n",
        "print(\"JAGS Bayes factor: {}\".format(BF_10))"
      ],
      "metadata": {
        "colab": {
          "base_uri": "https://localhost:8080/"
        },
        "id": "5syc7URskAYT",
        "outputId": "431dbc6a-8816-4dac-b09b-aea4039fc476"
      },
      "execution_count": null,
      "outputs": [
        {
          "output_type": "stream",
          "name": "stdout",
          "text": [
            "Posterior probability of m0: 0.002847499999999892\n",
            "Posterior probability of m1: 0.9971525000000001\n",
            "JAGS Bayes factor: 350.18525021950416\n"
          ]
        }
      ]
    },
    {
      "cell_type": "markdown",
      "source": [
        "According to the Bayes factor interpretation table, we have obtained decisive evidence, meaning it supports model  $m_1$. We can conclude from this that there is definitely a difference between $z_{P1}$ and $z_{P2}$, meaning that fatality rate of an incident during $P1$ (1985-1999) differs from the fatality rate of an incident during $P2$ (2000-2014)."
      ],
      "metadata": {
        "id": "-8tmOCxom0GN"
      }
    },
    {
      "cell_type": "markdown",
      "source": [
        "## Savage-Dickey approach\n",
        "\n",
        "We would like to see if our findings can be confirmed by other model comparison approaches. Here, we will utilize the Savage-Dickey approach.\n",
        "\n",
        "In order to do so, we will first start by reformulating the earlier used alternative model, denoted as $m_1$, to explicitly capture the difference in the incident rate between $P1$ (1985-1999) and $P2$ (2000-2014) as $\\delta=\\theta_{P1}-\\theta_{P2}$. In the null model $m_0$, this means that $\\delta = 0$.\n",
        "\n",
        "The Savage-Dickey approach can be used to compare two models when one model is a special case of the other model. In this case, the null model is $\\theta_{P1} - \\theta_{P2} = 0$ and the alternative model is $\\theta_{P1} - \\theta_{P2} \\neq 0$. The alternative model $m_1$ can be observed as the complement of the null model $m_0$."
      ],
      "metadata": {
        "id": "Q1t1ourEneBh"
      }
    },
    {
      "cell_type": "markdown",
      "source": [
        "\n",
        "Using the Savage-Dickey approach, we compute the Bayes factor as follows:\n",
        "\n",
        "$$\n",
        "    BF_{10} = \\frac{p(D \\mid m_1)}{p(D \\mid m_0)} = \\frac{p(\\delta=\\delta_0 \\mid m_1)}{p(\\delta=\\delta_0 \\mid D, m_1)} \\enspace,\n",
        "$$\n",
        "\n",
        "Here, $\\delta_0$ is the value specified by the null model.\n",
        "\n",
        "For this, we do not have to specify a prior on $\\delta$ explicitly. We can simply include $\\delta=\\theta_{P1}-\\theta_{P2}$ in our generative model and JAGS implementation: when no observations are provided to the model, we simply sample from the prior distribution. This enables us to obtain samples from $\\delta \\sim p(\\delta=\\delta_0 \\mid m_1)$. Conversely, if we do include data to condition the model, we obtain samples from $\\delta \\sim p(\\delta=\\delta_0 \\mid D, m_1)$."
      ],
      "metadata": {
        "id": "LSWiA04c720x"
      }
    },
    {
      "cell_type": "markdown",
      "source": [
        "### JAGS implementation\n",
        "\n",
        "We start off by implementing the model $m_1$ in JAGS with the explicit sampling of  $\\delta = \\theta_{P1} - \\theta_{P2}$. Samples will be collected from the prior and the posterior."
      ],
      "metadata": {
        "id": "V7rFkOQ-4x8e"
      }
    },
    {
      "cell_type": "code",
      "source": [
        "jags_model = '''\n",
        "model {\n",
        "    ## Prior\n",
        "    theta_P1 ~ dbeta(a, b)\n",
        "    theta_P2 ~ dbeta(a, b)\n",
        "\n",
        "    theta_P1.prior ~ dbeta(a, b)\n",
        "    theta_P2.prior ~ dbeta(a, b)\n",
        "\n",
        "    delta = theta_P1 - theta_P2\n",
        "    delta.prior = theta_P1.prior - theta_P2.prior\n",
        "\n",
        "    ## Likelihood\n",
        "    z_P1 ~ dbin(theta_P1, N_P1)\n",
        "    z_P2 ~ dbin(theta_P2, N_P2)\n",
        "}\n",
        "'''\n",
        "\n",
        "data = dict(N_P1=N_P1, N_P2=N_P2, z_P2=z_P2, z_P1=z_P1, a=a, b=b)\n",
        "\n",
        "m = pj.Model(jags_model, data=data, chains=num_chains)\n",
        "\n",
        "samples = m.sample(num_samples, vars=['delta', 'delta.prior'])\n",
        "print('Sampling complete.')"
      ],
      "metadata": {
        "colab": {
          "base_uri": "https://localhost:8080/"
        },
        "id": "dR1iZyuwnuAQ",
        "outputId": "b4184c96-9134-4f9d-def7-bcb1c7f856eb"
      },
      "execution_count": null,
      "outputs": [
        {
          "output_type": "stream",
          "name": "stdout",
          "text": [
            "adapting: iterations 4000 of 4000, elapsed 0:00:00, remaining 0:00:00\n",
            "sampling: iterations 1600000 of 1600000, elapsed 0:00:04, remaining 0:00:00\n",
            "Sampling complete.\n"
          ]
        }
      ]
    },
    {
      "cell_type": "markdown",
      "source": [
        "### Plots\n",
        "\n",
        "We will visualize both the histogram of the prior and posterior, sampled from the JAGS model, within one figure."
      ],
      "metadata": {
        "id": "3RhsDYNI9iYD"
      }
    },
    {
      "cell_type": "code",
      "source": [
        "plt.figure(figsize=(8, 5))\n",
        "ax = plt.gca()\n",
        "delta_samples = samples['delta'].flatten()\n",
        "delta_prior_samples = samples['delta.prior'].flatten()\n",
        "\n",
        "ax.hist(delta_samples, density=True, bins=50, label='delta')\n",
        "ax.hist(delta_prior_samples, density=True, bins=50, label='delta_prior')\n",
        "ax.legend()\n",
        "ax.set_title('Posterior samples')"
      ],
      "metadata": {
        "colab": {
          "base_uri": "https://localhost:8080/",
          "height": 496
        },
        "id": "zgR2jWGXorMF",
        "outputId": "a6974f69-ba77-40a6-fee0-4f7e7381b44c"
      },
      "execution_count": null,
      "outputs": [
        {
          "output_type": "execute_result",
          "data": {
            "text/plain": [
              "Text(0.5, 1.0, 'Posterior samples')"
            ]
          },
          "metadata": {},
          "execution_count": 121
        },
        {
          "output_type": "display_data",
          "data": {
            "text/plain": [
              "<Figure size 800x500 with 1 Axes>"
            ],
            "image/png": "[encoded data removed]"
          },
          "metadata": {}
        }
      ]
    },
    {
      "cell_type": "markdown",
      "source": [
        "The prior distribution represents the belief about the variable $\\delta$, the difference in fatality rate of an incident between the period $P1$ (1985-1999) and $P2$ (2000-2014), which is 0 according to the null model, before observing any data. The posterior distribution represents the updated belief about $\\delta$ after observing the data. By comparing the prior and posterior histograms, it can be seen in the plot above how the data has influenced the distribution. The posterior is much narrower and more concentrated around certain values compared to the prior, suggesting that the data has provided more information, and the uncertainty has reduced. Moreover, it can be seen that according to the posterior distribution, the variable $\\delta$ is most likely not 0, as the peak of the distribution occurs between the values 0.05 and 0.25."
      ],
      "metadata": {
        "id": "XEMT61k39fAf"
      }
    },
    {
      "cell_type": "markdown",
      "source": [
        "In order to compute the Savage-Dickey density ratio, we need to obtain the probabilities indicated at the value $\\delta=0$ in these histograms. However, reading that with the naked eye from histograms is not particularly accurate. Instead, we will use _kernel density estimation_. This technique smooths the histogram, but also allows us to query the probability density function that the histogram approximates, at any location of our choice. The function we use is `scipy.stats.gaussian_kde`."
      ],
      "metadata": {
        "id": "sEU_RIKtRcgR"
      }
    },
    {
      "cell_type": "code",
      "source": [
        "from scipy.stats import gaussian_kde\n",
        "\n",
        "posterior = gaussian_kde(delta_samples)\n",
        "prior = gaussian_kde(delta_prior_samples)\n",
        "\n",
        "# the resolution of the linspace determines how smooth the plots are\n",
        "delta_min, delta_max = -1.0, 1.0\n",
        "delta_range = np.linspace(delta_min, delta_max, num=500)\n",
        "delta_according_to_m0 = 0\n",
        "\n",
        "plt.figure(figsize=(10, 5))\n",
        "ax = plt.gca()\n",
        "\n",
        "# plot PDF's of posterior and prior distributions\n",
        "ax.plot(delta_range, prior(delta_range), label='prior distribution')\n",
        "ax.plot(delta_range, posterior(delta_range), label='posterior distribution')\n",
        "\n",
        "# add vertical line\n",
        "ax.axvline(delta_according_to_m0, color='green', label=r'$\\delta = 0$')\n",
        "\n",
        "# add black dots\n",
        "ax.plot(delta_according_to_m0, prior(delta_according_to_m0), marker='o', color='k')\n",
        "ax.plot(delta_according_to_m0, posterior(delta_according_to_m0), marker='o', color='k')\n",
        "\n",
        "# add labels and title\n",
        "ax.legend(fontsize=12)\n",
        "ax.set_title(\"PDF's as a function\");"
      ],
      "metadata": {
        "colab": {
          "base_uri": "https://localhost:8080/",
          "height": 478
        },
        "id": "VjmhtvEio7i3",
        "outputId": "fac6000d-f734-4190-b868-68c386fbc833"
      },
      "execution_count": null,
      "outputs": [
        {
          "output_type": "display_data",
          "data": {
            "text/plain": [
              "<Figure size 1000x500 with 1 Axes>"
            ],
            "image/png": "[encoded data removed]"
          },
          "metadata": {}
        }
      ]
    },
    {
      "cell_type": "markdown",
      "source": [
        "In the plot above, we have determined the PDFs of the posterior and the prior distributions $p(\\delta \\mid m_1)$ by applying the `gaussian_kde` function on the samples from our JAGS model. These PDFs are plotted as a function from the possible range of $\\delta$ ($\\delta \\in [-1, 1]$). Black dots are added at the points where the prior and the posterior intersect the vertical line of $\\delta=0$, as implied by the null model $m_0$. These are the values we will use for our Bayes factor computations using the Savage-Dickey approach."
      ],
      "metadata": {
        "id": "5GbH6PiN-9yr"
      }
    },
    {
      "cell_type": "markdown",
      "source": [
        "### Bayes factor\n",
        "\n",
        "With the prior and posterior probabilities indicated at $\\delta=0$, obtained from the smoothened histograms, we can compute the Bayes factor of this model comparison as follows:"
      ],
      "metadata": {
        "id": "v8N3oPejVJbb"
      }
    },
    {
      "cell_type": "code",
      "source": [
        "# Bayes factor using the Savage-Dickey approach\n",
        "new_BF_10 = prior(delta_according_to_m0)/posterior(delta_according_to_m0)\n",
        "print(\"Savage-Dickey Bayes factor: {}\".format(new_BF_10[0]))\n",
        "\n",
        "# Comparing the different Bayes factors\n",
        "print(\"JAGS Bayes factor was: {}\".format(BF_10))\n",
        "percent_difference = (abs(BF_10 - new_BF_10[0]) / abs(BF_10)) * 100\n",
        "print(\"The percent difference is: {}\".format(percent_difference))\n"
      ],
      "metadata": {
        "colab": {
          "base_uri": "https://localhost:8080/"
        },
        "id": "zFCTzE4UpFrK",
        "outputId": "3fc461aa-d8fa-45f0-cd82-cc41a2ead0c8"
      },
      "execution_count": null,
      "outputs": [
        {
          "output_type": "stream",
          "name": "stdout",
          "text": [
            "Savage-Dickey Bayes factor: 320.0316413132921\n",
            "JAGS Bayes factor was: 350.18525021950416\n",
            "The percent difference is: 8.610759273073636\n"
          ]
        }
      ]
    },
    {
      "cell_type": "markdown",
      "source": [
        "From the computations, the percent difference was at first approximately 60, meaning that the Bayes factor we computed using the Savage-Dickey approach was not close to the value we found with the previous model comparison in JAGS. However, since both approaches are based on MCMC sampling (results are not exact) and our results were still roughly within the same ballpark, we could simply increase the number of JAGS samples. By setting the JAGS samples to 400000 (initially 100000), we were able to find the value of the Savage-Dickey Bayes factor that was close to the JAGS Bayes factor (they are within 10% of each other)."
      ],
      "metadata": {
        "id": "pMsKKnlZYANJ"
      }
    },
    {
      "cell_type": "markdown",
      "source": [
        "## Conclusion\n",
        "\n",
        "\n",
        "We have defined two models: $m_1$, which has a difference between the periods, and $m_0$, which does not. We evaluated the prior and posterior number of fatal aviation incident differences for both models, and we computed the Bayes factor in JAGS using the approach with the categorical model variable $m$. We picked the categorical approach for this since we had observations that fit into discrete groups (Different, Not different) and because we were already acquainted with this approach. After this, we attempted another method, the Savage-Dickey method, to see if our results matched. This strategy was applied by structuring our null model with a precise hypothesis (difference is exactly 0), which substantially simplified our Bayes factor computations.\n",
        "\n",
        "Both the JAGS Bayes factor with the categorical model variable $m$ and the Savage-Dickey Bayes factor reported to us that the evidence strongly supports the alternative model ($m_1$) over the null model ($m_0$). This indicates that the incident fatality rates differ between $P1$ (1985-1999) and $P2$ (2000-2014). Specifically, the incident fatality rates has decreased between the measured periods, as indicated by the peak of the posterior distribution around the positive values of $\\delta$ (which was $\\theta_{P1} - \\theta_{P2}$) in the graphs. Any reported variations are thus unlikely to have occurred by coincidence, implying that there has been a shift in the way airlines handle incident situations. It implies that changes in aviation procedures, legislation, technology, or other variables may have led to the improvement or deterioration of airline safety. Understanding these characteristics can assist aviation authorities, airlines, and policymakers in making educated decisions to improve safety procedures and reduce risks."
      ],
      "metadata": {
        "id": "i_0hu1d2tBjr"
      }
    },
    {
      "cell_type": "markdown",
      "source": [
        "## Source\n",
        "\n",
        "The data set that we selected from the publicly available repository from the statistical analysis company FiveThirtyEight:\n",
        "\n",
        "https://github.com/fivethirtyeight/data/tree/master/airline-safety"
      ],
      "metadata": {
        "id": "VtKImDgxGcUk"
      }
    }
  ]
}